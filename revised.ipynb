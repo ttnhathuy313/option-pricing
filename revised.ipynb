{
 "cells": [
  {
   "cell_type": "code",
   "execution_count": null,
   "metadata": {},
   "outputs": [],
   "source": [
    "import numpy as np\n",
    "import matplotlib.pyplot as plt"
   ]
  },
  {
   "cell_type": "markdown",
   "metadata": {},
   "source": [
    "## Solving for the optimal exercise boundary"
   ]
  },
  {
   "cell_type": "markdown",
   "metadata": {},
   "source": [
    "### The Integral Equation"
   ]
  },
  {
   "cell_type": "markdown",
   "metadata": {},
   "source": [
    "$$\n",
    "S_f(t) - K = M_1(S_f(t), T-t, K) + \\int_t^{T}Q_1(S_f(t), t, u, S_f(u)) du\n",
    "$$\n",
    "\n",
    "$$\n",
    "Q_1(x,y,z,w) = x\\delta e^{-\\delta(z - y)} \\Phi(d_1(x, z-y, w))\n",
    "- rKe^{-r(z-y)}\\Phi(d_2(x, z-y, w))\n",
    "$$\n",
    "\n",
    "$$\n",
    "M_1(x,y,z) = xe^{-\\delta y} \\Phi (d_1(x,y,z)) - z e^{-ry}\\Phi(d_2(x,y,z))\n",
    "$$\n",
    "\n",
    "$$\n",
    "d_1(x, y, z) = \\frac{\\ln(x/z) + (r - \\delta + \\sigma^2/2)y}{\\sigma\\sqrt{y}}\n",
    "$$\n",
    "\n",
    "$$\n",
    "d_2(x, y, z) = d_1(x,y,z)-\\sigma\\sqrt{y}\n",
    "$$\n",
    "\n",
    "$$\n",
    "1_{(S=S_f)}(S) =\n",
    "\\begin{cases}\n",
    "\\frac{1}{2} & \\textrm{if } S = S_f(t) \\\\ \n",
    "0 & \\textrm{otherwise}\n",
    "\\end{cases}\n",
    "$$"
   ]
  },
  {
   "cell_type": "markdown",
   "metadata": {},
   "source": []
  }
 ],
 "metadata": {
  "kernelspec": {
   "display_name": "Python 3",
   "language": "python",
   "name": "python3"
  },
  "language_info": {
   "codemirror_mode": {
    "name": "ipython",
    "version": 3
   },
   "file_extension": ".py",
   "mimetype": "text/x-python",
   "name": "python",
   "nbconvert_exporter": "python",
   "pygments_lexer": "ipython3",
   "version": "3.12.7"
  }
 },
 "nbformat": 4,
 "nbformat_minor": 2
}
