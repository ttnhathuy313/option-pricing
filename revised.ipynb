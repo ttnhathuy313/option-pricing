{
 "cells": [
  {
   "cell_type": "code",
   "execution_count": 7,
   "metadata": {},
   "outputs": [],
   "source": [
    "import numpy as np\n",
    "import matplotlib.pyplot as plt"
   ]
  },
  {
   "cell_type": "markdown",
   "metadata": {},
   "source": [
    "## Solving for the optimal exercise boundary"
   ]
  },
  {
   "cell_type": "markdown",
   "metadata": {},
   "source": [
    "### The Integral Equation"
   ]
  },
  {
   "cell_type": "markdown",
   "metadata": {},
   "source": [
    "$$\n",
    "S_f(t) - K = M_1(S_f(t), T-t, K) + \\int_t^{T}Q_1(S_f(t), t, u, S_f(u)) du\n",
    "$$\n",
    "\n",
    "$$\n",
    "Q_1(x,y,z,w) = x\\delta e^{-\\delta(z - y)} \\Phi(d_1(x, z-y, w))\n",
    "- rKe^{-r(z-y)}\\Phi(d_2(x, z-y, w))\n",
    "$$\n",
    "\n",
    "$$\n",
    "M_1(x,y,z) = xe^{-\\delta y} \\Phi (d_1(x,y,z)) - z e^{-ry}\\Phi(d_2(x,y,z))\n",
    "$$\n",
    "\n",
    "$$\n",
    "d_1(x, y, z) = \\frac{\\ln(x/z) + (r - \\delta + \\sigma^2/2)y}{\\sigma\\sqrt{y}}\n",
    "$$\n",
    "\n",
    "$$\n",
    "d_2(x, y, z) = d_1(x,y,z)-\\sigma\\sqrt{y}\n",
    "$$\n",
    "\n",
    "$$\n",
    "1_{(S=S_f)}(S) =\n",
    "\\begin{cases}\n",
    "\\frac{1}{2} & \\textrm{if } S = S_f(t) \\\\ \n",
    "0 & \\textrm{otherwise}\n",
    "\\end{cases}\n",
    "$$"
   ]
  },
  {
   "cell_type": "markdown",
   "metadata": {},
   "source": [
    "### Parameters"
   ]
  },
  {
   "cell_type": "code",
   "execution_count": 2,
   "metadata": {},
   "outputs": [],
   "source": [
    "dividend = 0.02\n",
    "strike_price = 100\n",
    "volatility = 0.2\n",
    "risk_free_rate = 0.05\n",
    "time_to_maturity = 1"
   ]
  },
  {
   "cell_type": "markdown",
   "metadata": {},
   "source": [
    "### Computation of necessary functions"
   ]
  },
  {
   "cell_type": "code",
   "execution_count": 3,
   "metadata": {},
   "outputs": [],
   "source": [
    "from scipy.special import erf\n",
    "\n",
    "# The CDF of the standard normal distribution\n",
    "def phi(z):\n",
    "    return (1.0 + erf(z / np.sqrt(2.0))) / 2.0\n",
    "\n",
    "def d1(x, y, z):\n",
    "    return (np.log(x / z) + (risk_free_rate - dividend + volatility ** 2 / 2) * y) / (volatility * np.sqrt(y))\n",
    "\n",
    "def d2(x, y, z):\n",
    "    return d1(x, y, z) - volatility * np.sqrt(y)\n",
    "\n",
    "def Q1(x, y, z, w):\n",
    "    x = float(x)\n",
    "    result = x * dividend * np.exp(-dividend * (z - y)) * phi(d1(x, z - y, w))\n",
    "    result -= risk_free_rate * strike_price * np.exp(-risk_free_rate * (z - y)) * phi(d2(x, z - y, w))\n",
    "    return result\n",
    "\n",
    "def Q1_derivative_x(x, y, z, w):\n",
    "    # Derivative of Q1 with respect to x using five-point stencil method\n",
    "    h = 1e-5\n",
    "    return (-Q1(x + 2*h, y, z, w) + 8*Q1(x + h, y, z, w) - 8*Q1(x - h, y, z, w) + Q1(x - 2*h, y, z, w)) / (12 * h)\n",
    "\n",
    "def M1(x, y, z):\n",
    "    x = float(x)\n",
    "    result = x * np.exp(-dividend * y) * phi(d1(x, y, z)) - strike_price * np.exp(-risk_free_rate * y) * phi(d2(x, y, z))\n",
    "    return result\n",
    "\n",
    "def M1_derivative_x(x, y, z):\n",
    "    # Derivative of M1 with respect to x using five-point stencil method\n",
    "    h = 1e-5\n",
    "    return (-M1(x + 2*h, y, z) + 8*M1(x + h, y, z) - 8*M1(x - h, y, z) + M1(x - 2*h, y, z)) / (12 * h)"
   ]
  },
  {
   "cell_type": "markdown",
   "metadata": {},
   "source": [
    "### The Newton Raphson procedure"
   ]
  },
  {
   "cell_type": "code",
   "execution_count": 11,
   "metadata": {},
   "outputs": [],
   "source": [
    "# Newton-Raphson method\n",
    "def newton_raphson(f, f_prime, x0, tol=1e-7, max_iter=100):\n",
    "    x = x0\n",
    "    n_iter = 0\n",
    "    for _ in range(max_iter):\n",
    "        n_iter += 1\n",
    "        fx = f(x)\n",
    "        fpx = f_prime(x)\n",
    "        if abs(fpx) < tol:\n",
    "            raise ValueError(\"Derivative too small; no convergence.\")\n",
    "        x_new = x - fx / fpx\n",
    "        if abs(x_new - x) < tol:\n",
    "            return x_new\n",
    "        x = x_new\n",
    "    print(f\"Did not converge in {max_iter} iterations.\")\n",
    "    return x"
   ]
  },
  {
   "cell_type": "markdown",
   "metadata": {},
   "source": [
    "### Computing the solution"
   ]
  },
  {
   "cell_type": "code",
   "execution_count": 12,
   "metadata": {},
   "outputs": [],
   "source": [
    "time_discretization = np.linspace(0, time_to_maturity, 252)\n",
    "s_f_list = []\n",
    "s_f_list.append([0] * len(time_discretization))\n",
    "s_f_list = s_f_list[0]\n",
    "\n",
    "s_f_list[-1] = max(strike_price, risk_free_rate * strike_price / dividend)\n",
    "n_steps = len(time_discretization) - 1\n",
    "cumulative = 0\n",
    "cnt=0\n",
    "for i in range(len(time_discretization) - 2, -1, -1):\n",
    "    time_passed = i / n_steps\n",
    "    guess_x = s_f_list[i + 1] \n",
    "    def test_sf(x):\n",
    "        test_result =  x - strike_price - M1(x, 1-time_passed, strike_price)\n",
    "        test_result -= (1/(n_steps * 2)) * Q1(x, time_passed, time_passed + 1.0/n_steps, s_f_list[i + 1])\n",
    "        test_result -= (1/(n_steps * 2)) * (1/2 * x * dividend - 1/2 * risk_free_rate * strike_price)\n",
    "        for j in range(i + 1, len(time_discretization) - 1, 1):\n",
    "            test_result -= (1/(n_steps * 2)) * Q1(x, time_passed, j/n_steps, s_f_list[j])\n",
    "            test_result -= (1/(n_steps * 2)) * Q1(x, time_passed, (j + 1)/n_steps, s_f_list[j + 1])\n",
    "        return test_result\n",
    "    def test_sf_derivative(x):\n",
    "        derivative_result = 1 - M1_derivative_x(x, 1 - time_passed, strike_price)\n",
    "        derivative_result -= (1/(n_steps*2)) * Q1_derivative_x(x, time_passed, time_passed + 1.0/n_steps, s_f_list[i + 1])\n",
    "        derivative_result -= (1/(n_steps*2)) * 1/2 * dividend\n",
    "        for j in range(i + 1, len(time_discretization) - 1):\n",
    "            derivative_result -= (1/(n_steps * 2)) * Q1_derivative_x(x, time_passed, j/n_steps, s_f_list[j])\n",
    "            derivative_result -= (1/(n_steps * 2)) * Q1_derivative_x(x, time_passed, (j + 1)/n_steps, s_f_list[j + 1])\n",
    "        return derivative_result\n",
    "    \n",
    "    s_f_list[i] = newton_raphson(test_sf, test_sf_derivative, guess_x)\n",
    "\n"
   ]
  },
  {
   "cell_type": "code",
   "execution_count": 13,
   "metadata": {},
   "outputs": [
    {
     "data": {
      "text/plain": [
       "Text(0.5, 0, 'Date')"
      ]
     },
     "execution_count": 13,
     "metadata": {},
     "output_type": "execute_result"
    },
    {
     "data": {
      "image/png": "[encoded data removed]",
      "text/plain": [
       "<Figure size 640x480 with 1 Axes>"
      ]
     },
     "metadata": {},
     "output_type": "display_data"
    }
   ],
   "source": [
    "# Graph the stock price and the optimal exercise boundary\n",
    "plt.plot(time_discretization, s_f_list, label='Optimal Exercise Boundary')\n",
    "plt.legend()\n",
    "plt.xlabel('Date')"
   ]
  }
 ],
 "metadata": {
  "kernelspec": {
   "display_name": "Python 3",
   "language": "python",
   "name": "python3"
  },
  "language_info": {
   "codemirror_mode": {
    "name": "ipython",
    "version": 3
   },
   "file_extension": ".py",
   "mimetype": "text/x-python",
   "name": "python",
   "nbconvert_exporter": "python",
   "pygments_lexer": "ipython3",
   "version": "3.12.7"
  }
 },
 "nbformat": 4,
 "nbformat_minor": 2
}
